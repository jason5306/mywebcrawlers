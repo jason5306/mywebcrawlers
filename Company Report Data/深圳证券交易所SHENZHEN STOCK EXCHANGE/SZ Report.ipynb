{
 "cells": [
  {
   "cell_type": "markdown",
   "metadata": {},
   "source": [
    "# Download"
   ]
  },
  {
   "cell_type": "code",
   "execution_count": 1,
   "metadata": {},
   "outputs": [],
   "source": [
    "import os\n",
    "import math\n",
    "import json\n",
    "import requests\n",
    "from copy import deepcopy\n",
    "\n",
    "\n",
    "URL = 'http://www.szse.cn/api/disc/announcement/annList'\n",
    "\n",
    "HEADER = {\n",
    "    'Host': 'www.szse.cn',\n",
    "    'Origin': 'http://www.szse.cn',\n",
    "    'Referer': 'http://www.szse.cn/disclosure/listed/fixed/index.html',\n",
    "    'User-Agent': \"Mozilla/5.0 (Windows NT 6.1; Win64; x64) AppleWebKit/537.36 \"\n",
    "                  \"(KHTML, like Gecko) Chrome/72.0.3626.121 Safari/537.36\",\n",
    "    'Content-Type': 'application/json',\n",
    "    'Connection': 'keep-alive',\n",
    "    'X-Request-Type': 'ajax',\n",
    "    'X-Requested-With': 'XMLHttpRequest',\n",
    "}\n",
    "\n",
    "PAGE_SIZE = 30\n",
    "\n",
    "PAYLOAD = {\n",
    "    'channelCode': [\"fixed_disc\"],\n",
    "    'pageNum': 1,\n",
    "    'pageSize': PAGE_SIZE,\n",
    "    'seDate': [\"\", \"\"],\n",
    "    'stock': [\"000001\"],\n",
    "}\n",
    "\n",
    "PDF_URL_PREFIX = 'http://disc.static.szse.cn/download'\n",
    "\n",
    "\n",
    "def get_pdf_url(code, begin_date, end_date):\n",
    "    pdf_urls = []\n",
    "    payload = deepcopy(PAYLOAD)\n",
    "    payload['stock'] = [code]\n",
    "    payload['seDate'] = [begin_date, end_date]\n",
    "    res = requests.post(URL, data=json.dumps(payload), headers=HEADER).json()\n",
    "    for i in res['data']:\n",
    "        file_name = '_'.join([i['title'], ''.join(i['publishTime'].split()[0].split('-'))])\n",
    "        pdf_url = PDF_URL_PREFIX + i['attachPath']\n",
    "        pdf_urls.append((file_name, pdf_url))\n",
    "    page_count = math.ceil(res['announceCount'] / PAGE_SIZE)\n",
    "    for j in range(page_count - 1):\n",
    "        payload['pageNum'] = j + 2\n",
    "        res = requests.post(URL, data=json.dumps(payload), headers=HEADER).json()\n",
    "        for i in res['data']:\n",
    "            file_name = '_'.join([i['title'], ''.join(i['publishTime'].split()[0].split('-'))])\n",
    "            pdf_url = PDF_URL_PREFIX + i['attachPath']\n",
    "            pdf_urls.append((file_name, pdf_url))\n",
    "    return pdf_urls\n",
    "\n",
    "\n",
    "def save_pdf(code, path='./', begin_date='', end_date=''):\n",
    "    pdf_urls = get_pdf_url(code, begin_date, end_date)\n",
    "    file_path = os.path.join(path, code)\n",
    "    if not os.path.isdir(file_path):\n",
    "        os.makedirs(file_path)\n",
    "    for file_name, url in pdf_urls:\n",
    "        extension = url.split('.')[-1]\n",
    "        file_full_name = os.path.join(file_path, '.'.join([file_name, extension])).replace('*', '')\n",
    "        rs = requests.get(url, stream=True)\n",
    "        with open(file_full_name, \"wb\") as fp:\n",
    "            for chunk in rs.iter_content(chunk_size=10240):\n",
    "                if chunk:\n",
    "                    fp.write(chunk)\n",
    "\n",
    "\n",
    "if __name__ == '__main__':\n",
    "    # 下载全部报告\n",
    "    code = '002321'\n",
    "    #save_pdf(code )\n",
    "    # 下载一段时间内的报告\n",
    "    save_pdf(code, begin_date='2015-12-27', end_date='2019-12-27')"
   ]
  },
  {
   "cell_type": "markdown",
   "metadata": {},
   "source": [
    "# Select"
   ]
  },
  {
   "cell_type": "code",
   "execution_count": 3,
   "metadata": {},
   "outputs": [
    {
     "name": "stdout",
     "output_type": "stream",
     "text": [
      "华英农业：2017年年度报告（更新后）_20180526.PDF\n",
      "10\n",
      "华英农业：2016年年度报告_20170328.PDF\n",
      "10\n",
      "华英农业：2018年年度报告_20190417.PDF\n",
      "10\n",
      "华英农业：2015年年度报告摘要_20160408.PDF\n",
      "10\n",
      "华英农业：2018年年度报告摘要_20190417.PDF\n",
      "10\n",
      "华英农业：2017年年度报告（已取消）_20180418.PDF\n",
      "10\n",
      "华英农业：2016年年度报告摘要_20170328.PDF\n",
      "10\n",
      "华英农业：2015年年度报告_20160408.PDF\n",
      "10\n",
      "华英农业：2017年年度报告摘要_20180418.PDF\n",
      "10\n",
      "华英农业：2017年年度报告（已取消）_20180505.PDF\n",
      "10\n"
     ]
    }
   ],
   "source": [
    "import os\n",
    "code = '002321'\n",
    "filePath = './' + code\n",
    "fileNames = os.listdir(filePath)\n",
    "\n",
    "reportType = '年度报告' # 年度报告 第一季度报告 半年度报告 第三季度报告\n",
    "\n",
    "for fileName in fileNames:\n",
    "    index = fileName.find(reportType)\n",
    "    if fileName.find('半年度报告') != -1 and reportType == '年度报告':\n",
    "        index = -1\n",
    "    if index == -1:\n",
    "        os.remove(filePath + '/' + fileName)\n",
    "    print(fileName)\n",
    "    print(index)"
   ]
  },
  {
   "cell_type": "code",
   "execution_count": null,
   "metadata": {},
   "outputs": [],
   "source": []
  }
 ],
 "metadata": {
  "kernelspec": {
   "display_name": "Python 3",
   "language": "python",
   "name": "python3"
  },
  "language_info": {
   "codemirror_mode": {
    "name": "ipython",
    "version": 3
   },
   "file_extension": ".py",
   "mimetype": "text/x-python",
   "name": "python",
   "nbconvert_exporter": "python",
   "pygments_lexer": "ipython3",
   "version": "3.8.5"
  }
 },
 "nbformat": 4,
 "nbformat_minor": 4
}
