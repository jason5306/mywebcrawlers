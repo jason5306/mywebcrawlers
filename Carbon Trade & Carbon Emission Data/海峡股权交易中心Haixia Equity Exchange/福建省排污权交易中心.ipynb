{
 "cells": [
  {
   "cell_type": "code",
   "execution_count": 3,
   "id": "e7736013",
   "metadata": {},
   "outputs": [],
   "source": [
    "from selenium import webdriver\n",
    "from selenium.webdriver.chrome.service import Service\n",
    "from selenium.webdriver.common.action_chains import ActionChains\n",
    "from selenium.webdriver.common.keys import Keys\n",
    "from bs4 import BeautifulSoup\n",
    "import requests\n",
    "import time\n",
    "from pandas import DataFrame, read_csv, concat\n",
    "from tqdm import tqdm\n",
    "import math\n",
    "\n",
    "from selenium.webdriver.support.select import Select"
   ]
  },
  {
   "cell_type": "markdown",
   "id": "240d6f0a",
   "metadata": {},
   "source": [
    "# 交易结果公告"
   ]
  },
  {
   "cell_type": "code",
   "execution_count": null,
   "id": "51e4f686",
   "metadata": {},
   "outputs": [],
   "source": [
    "driver = webdriver.Chrome('../chromedriver')\n",
    "driver.get(\"http://pwq.hxee.com.cn:7100/news/newest\")\n",
    "\n",
    "total_pages = driver.find_element_by_id(\"_currentTotalPageNo\").text.split('/')[1]\n",
    "url_list = []\n",
    "for i in range(int(total_pages)):\n",
    "    print(\"page:\" + str(i+1))\n",
    "    urls_tag = driver.find_element_by_class_name(\"text_l_main\").find_elements_by_tag_name(\"a\")\n",
    "    for tag in urls_tag:\n",
    "        url_list.append(tag.get_attribute(\"href\"))\n",
    "#     next page\n",
    "    driver.find_element_by_id(\"_toNextPage\").click()   \n",
    "    time.sleep(1)\n",
    "\n",
    "result = []\n",
    "header = [\"公告编号\",\"交易时间\",\"标的\",\"交易方式\",\"出让方\",\"标的物\",\"标的物数量/吨\",\"标的物期限\",\"总成交量\",\"出让方本次委托已成交数量/吨\",\"受让方公司名称\",\"受让量/吨\",\"受让期限\"]\n",
    "count = 0\n",
    "for url in url_list:\n",
    "    driver.get(url)\n",
    "    print(count)\n",
    "    time.sleep(1)\n",
    "    while True:\n",
    "        try:\n",
    "            text = driver.find_element_by_class_name(\"news_details_main\").text\n",
    "        except Exception:\n",
    "            print('Page reload ... ')\n",
    "            driver.get(url)\n",
    "            time.sleep(1)\n",
    "        else:\n",
    "            if text != \"\":\n",
    "                break\n",
    "            else:\n",
    "                print('Page reload ... ')\n",
    "                driver.get(url)\n",
    "                time.sleep(1)\n",
    "\n",
    "    col_1 = text.split(\"\\n\")[1].split(\"编号：\")[1].strip().strip(\"(\").strip(\"）\")\n",
    "    col_2 = text.split('于')[1].split('对')[0]\n",
    "    col_3 = text.split(\"《\")[1].split(\"》\")[0]\n",
    "    col_4 = text.split(\"以\")[1].split(\"的方式\")[0]\n",
    "    col_5 = text.split(\"出让方：\")[1].split(\"\\n\")[0]\n",
    "    if len(text.split(\"标的物：\")[1].split('；')[0].split('，')) == 2:\n",
    "        col_6 = text.split(\"标的物：\")[1].split('；')[0].split('，')[0].split(\"共\")[0]\n",
    "        col_7 = text.split(\"标的物：\")[1].split('；')[0].split('，')[0].split(\"共\")[1].split('吨')[0]\n",
    "        col_8 = text.split(\"标的物：\")[1].split('；')[0].split('，')[1].split('期限')[1]\n",
    "    else:\n",
    "        col_6 = text.split(\"标的物：\")[1].split('；')[0].split('，')[0]\n",
    "        col_7 = text.split(\"标的物：\")[1].split('；')[0].split('，')[1].split('共')[1].split('吨')[0]\n",
    "        col_8 = text.split(\"标的物：\")[1].split('；')[0].split('，')[2].split('期限')[1]\n",
    "\n",
    "    if len(text.split(\"总成交量：\")) == 1:\n",
    "        col_9 = '-'\n",
    "\n",
    "    else:\n",
    "        col_9 = text.split(\"总成交量：\")[1].split(\"；\")[0].split('吨')[0].strip()\n",
    "\n",
    "\n",
    "    if \"本日成交\" in text:\n",
    "        col_10 = text.split(\"本日成交\")[1].split('吨')[0].strip()\n",
    "    elif \"全部成交\" in text:\n",
    "        col_10 = \"全部成交\"\n",
    "    else:\n",
    "        col_10 = text.split(\"已成交\")[1].split('吨')[0].strip()\n",
    "\n",
    "    common_col = [col_1, col_2, col_3,col_4,col_5,col_6,col_7,col_8,col_9, col_10]\n",
    "    for item in text.split(\"受让方：\")[1].split(\"；\")[:-1]:\n",
    "        info_1 = item.split('，')[0].split('.')[1]\n",
    "        info_2 = item.split('，')[1].split(\"为\")[1].split('吨')[0]\n",
    "        info_3 = item.split('，')[2].split('期限')[1]\n",
    "        info_row = [info_1, info_2, info_3]\n",
    "        row = []\n",
    "        row.extend(common_col)\n",
    "        row.extend(info_row)\n",
    "\n",
    "        if len(row) == 13:\n",
    "            result.append(row)\n",
    "        else:\n",
    "            print(len(row))\n",
    "            print(url)\n",
    "    count = count + 1       \n",
    "\n",
    "file_name = \"福建省排污权交易中心_交易结果公告_\" + time.strftime(\"%Y-%m-%d\", time.localtime()) + \".csv\"\n",
    "DataFrame(result,columns=header).to_csv(file_name)    "
   ]
  },
  {
   "cell_type": "markdown",
   "id": "d5fe129c",
   "metadata": {},
   "source": [
    "# 出让公告"
   ]
  },
  {
   "cell_type": "code",
   "execution_count": null,
   "id": "9fe7132a",
   "metadata": {},
   "outputs": [],
   "source": [
    "driver = webdriver.Chrome('../chromedriver')\n",
    "driver.get(\"http://pwq.hxee.com.cn:7100/news/tradeout\")\n",
    "\n",
    "time.sleep(1)\n",
    "total_pages = driver.find_element_by_id(\"_currentTotalPageNo\").text.split('/')[1]\n",
    "url_list = []\n",
    "for i in range(int(total_pages)):\n",
    "    print(\"page:\" + str(i+1))\n",
    "    urls_tag = driver.find_element_by_class_name(\"text_l_main\").find_elements_by_tag_name(\"a\")\n",
    "    for tag in urls_tag:\n",
    "        url_list.append(tag.get_attribute(\"href\"))\n",
    "#     next page\n",
    "    driver.find_element_by_id(\"_toNextPage\").click()   \n",
    "    time.sleep(1)\n",
    "\n",
    "df_result = DataFrame()\n",
    "for url in tqdm(url_list):\n",
    "    driver.get(url)\n",
    "    time.sleep(1)\n",
    "\n",
    "    header = ['公告名称','项目编号','标的名称','标的数量','标的来源','出让标的所在地','初始排污权有偿使用费（元/年吨）','挂牌价格（元/年吨）','交易方式','交易开始时间','公告内容']\n",
    "    result = []\n",
    "    while True:\n",
    "        try:\n",
    "            notice_title = driver.find_element_by_id('notice_title').text\n",
    "        except Exception:\n",
    "            print('Page reload ... ')\n",
    "            driver.get(url)\n",
    "            time.sleep(1)\n",
    "        else:\n",
    "            if notice_title != \"\":\n",
    "                break\n",
    "            else:\n",
    "                print('Page reload ... ')\n",
    "                driver.get(url)\n",
    "                time.sleep(1)    \n",
    "    \n",
    "    result = {}\n",
    "    table_rows = driver.find_element_by_id(\"Content\").find_elements_by_tag_name('tr')\n",
    "    table_data = []\n",
    "    result['公告名称'] = notice_title\n",
    "    for row in table_rows:\n",
    "        num_data = len(row.find_elements_by_tag_name('td'))\n",
    "        row_data_el = row.find_elements_by_tag_name('td')\n",
    "        row_data = []\n",
    "        for data in row_data_el:\n",
    "            row_data.append(data.text)\n",
    "\n",
    "        if num_data == 2:\n",
    "            result[row_data[0]] = [row_data[1]]\n",
    "        if num_data == 4:\n",
    "            result[row_data[0]] = [row_data[1]]\n",
    "            result[row_data[2]] = [row_data[3]]\n",
    "        if num_data == 1:\n",
    "            result['公告内容'] = [row_data[0]]\n",
    "\n",
    "    df_temp = DataFrame(result)\n",
    "    df_result = concat([df_result, df_temp], axis=0, ignore_index=True)\n",
    "file_name = \"福建省排污权交易中心_出让公告_\" + time.strftime(\"%Y-%m-%d\", time.localtime()) + \".csv\"\n",
    "df_result.to_csv(file_name)"
   ]
  },
  {
   "cell_type": "markdown",
   "id": "0b7d0007",
   "metadata": {},
   "source": [
    "# 受让公告"
   ]
  },
  {
   "cell_type": "code",
   "execution_count": 132,
   "id": "af05946a",
   "metadata": {},
   "outputs": [],
   "source": [
    "driver = webdriver.Chrome('../chromedriver')\n",
    "driver.get(\"http://pwq.hxee.com.cn:7100/news/tradein\")"
   ]
  },
  {
   "cell_type": "code",
   "execution_count": 6,
   "id": "7b84b4d5",
   "metadata": {},
   "outputs": [
    {
     "name": "stderr",
     "output_type": "stream",
     "text": [
      "100%|█████████████████████████████████████████| 944/944 [32:40<00:00,  2.08s/it]\n"
     ]
    }
   ],
   "source": [
    "time.sleep(1)\n",
    "total_pages = driver.find_element_by_id(\"_currentTotalPageNo\").text.split('/')[1]\n",
    "url_list = []\n",
    "for i in tqdm(range(int(total_pages))):\n",
    "    time.sleep(1)\n",
    "#     print(\"page:\" + str(i+1))\n",
    "    urls_tag = driver.find_element_by_class_name(\"text_l_main\").find_elements_by_tag_name(\"a\")\n",
    "    for tag in urls_tag:\n",
    "        url_list.append(tag.get_attribute(\"href\"))\n",
    "#     next page\n",
    "    driver.find_element_by_id(\"_toNextPage\").click()   \n",
    "    time.sleep(1)"
   ]
  },
  {
   "cell_type": "code",
   "execution_count": 133,
   "id": "70df9441",
   "metadata": {},
   "outputs": [
    {
     "name": "stderr",
     "output_type": "stream",
     "text": [
      "  3%|▉                                     | 148/5664 [04:23<2:41:33,  1.76s/it]"
     ]
    },
    {
     "name": "stdout",
     "output_type": "stream",
     "text": [
      "Page reload ... \n"
     ]
    },
    {
     "name": "stderr",
     "output_type": "stream",
     "text": [
      " 30%|██████████▉                          | 1675/5664 [45:02<1:58:21,  1.78s/it]"
     ]
    },
    {
     "name": "stdout",
     "output_type": "stream",
     "text": [
      "Page reload ... \n"
     ]
    },
    {
     "name": "stderr",
     "output_type": "stream",
     "text": [
      " 39%|██████████████▎                      | 2195/5664 [58:44<1:17:52,  1.35s/it]"
     ]
    },
    {
     "name": "stdout",
     "output_type": "stream",
     "text": [
      "Page reload ... \n"
     ]
    },
    {
     "name": "stderr",
     "output_type": "stream",
     "text": [
      " 84%|███████████████████████████████      | 4749/5664 [2:05:39<22:09,  1.45s/it]"
     ]
    },
    {
     "name": "stdout",
     "output_type": "stream",
     "text": [
      "Page reload ... \n"
     ]
    },
    {
     "name": "stderr",
     "output_type": "stream",
     "text": [
      " 84%|███████████████████████████████▏     | 4770/5664 [2:06:28<37:27,  2.51s/it]"
     ]
    },
    {
     "name": "stdout",
     "output_type": "stream",
     "text": [
      "Page reload ... \n"
     ]
    },
    {
     "name": "stderr",
     "output_type": "stream",
     "text": [
      " 85%|███████████████████████████████▎     | 4788/5664 [2:07:06<32:12,  2.21s/it]"
     ]
    },
    {
     "name": "stdout",
     "output_type": "stream",
     "text": [
      "Page reload ... \n"
     ]
    },
    {
     "name": "stderr",
     "output_type": "stream",
     "text": [
      "100%|█████████████████████████████████████| 5664/5664 [2:24:34<00:00,  1.53s/it]\n"
     ]
    }
   ],
   "source": [
    "df_result = DataFrame()\n",
    "\n",
    "for url in tqdm(url_list):\n",
    "    driver.get(url)\n",
    "    time.sleep(1)\n",
    "\n",
    "    result = {}\n",
    "    while True:\n",
    "        try:\n",
    "            notice_title = driver.find_element_by_id('notice_title').text\n",
    "        except Exception:\n",
    "            print('Page reload ... ')\n",
    "            driver.get(url)\n",
    "            time.sleep(1)\n",
    "        else:\n",
    "            if notice_title != \"\":\n",
    "                break\n",
    "            else:\n",
    "                print('Page reload ... ')\n",
    "                driver.get(url)\n",
    "                time.sleep(1)     \n",
    "    \n",
    "\n",
    "    createTime = driver.find_element_by_id('createTime_id').text.split('：')[1]\n",
    "\n",
    "    result['公告名称'] = [notice_title]\n",
    "    result['发布时间'] = [createTime]\n",
    "\n",
    "    text = driver.find_element_by_id('Content').text\n",
    "#     text_span = driver.find_element_by_id('Content').find_elements_by_tag_name('span')\n",
    "#     if len(text_span) == 0:\n",
    "#         text_span = driver.find_element_by_id('Content').find_elements_by_tag_name('u')\n",
    "\n",
    "\n",
    "    result['申购企业'] = [text.split('，')[1].split('拟申购')[0]]\n",
    "\n",
    "#     num_pollutant = len(text.split('拟申购')[1].split('，期限')[0].split(\"：\")) - 1\n",
    "    \n",
    "    \n",
    "    result['意向时间'] = [text.split('于')[1].split('向')[0]] \n",
    "    \n",
    "    result['期限/年'] = text.split('期限')[1].split('年')[0]\n",
    "    string_te = text.split('拟申购')[1].split('期限')[0].replace(\" \",\"\").replace('：','')\n",
    "\n",
    "    index = 0\n",
    "    index_end = 0\n",
    "    end = len(string_te)\n",
    "    substance = ''\n",
    "\n",
    "    while True:\n",
    "        quant = ''\n",
    "        if index == end:\n",
    "            break\n",
    "\n",
    "        if string_te[index].isdigit() or string_te[index] == '.':\n",
    "            if not string_te[index+1].isdigit() and string_te[index+1] != '.':\n",
    "                pass\n",
    "            else:\n",
    "                substance = string_te[index_end:index]\n",
    "    #             print('----')\n",
    "    #             print(substance)\n",
    "\n",
    "                while True:\n",
    "                    if string_te[index] == '吨':\n",
    "                        break\n",
    "    #                 print(string_te[index])\n",
    "                    quant += string_te[index]\n",
    "                    index += 1  \n",
    "    #             print(quant)\n",
    "                index_end = index + 2\n",
    "#                             print(substance)\n",
    "            result[substance] = [quant]\n",
    "#                             print(quant)\n",
    "\n",
    "        index += 1 \n",
    "#     for pair in text.split('拟申购')[1].split('，期限')[0].split('，'):\n",
    "#         if len(pair) != 0:\n",
    "#             try:\n",
    "#                 result[pair.split('：')[0]+'/吨'] = [pair.split('：')[1].split('吨')[0]] \n",
    "#             except Exception:\n",
    "# #                 print(text.split('拟申购')[1].split('，期限')[0].split('，'))\n",
    "# #                 print(url)\n",
    "#                 string_te = text.split('拟申购')[1].split('期限')[0].replace(\" \",\"\").replace('：','')\n",
    "\n",
    "#                 index = 0\n",
    "#                 index_end = 0\n",
    "#                 end = len(string_te)\n",
    "#                 substance = ''\n",
    "\n",
    "#                 while True:\n",
    "#                     quant = ''\n",
    "#                     if index == end:\n",
    "#                         break\n",
    "\n",
    "#                     if string_te[index].isdigit() or string_te[index] == '.':\n",
    "#                         if not string_te[index+1].isdigit() and string_te[index+1] != '.':\n",
    "#                             pass\n",
    "#                         else:\n",
    "#                             substance = string_te[index_end:index]\n",
    "#                 #             print('----')\n",
    "#                 #             print(substance)\n",
    "\n",
    "#                             while True:\n",
    "#                                 if string_te[index] == '吨':\n",
    "#                                     break\n",
    "#                 #                 print(string_te[index])\n",
    "#                                 quant += string_te[index]\n",
    "#                                 index += 1  \n",
    "#                 #             print(quant)\n",
    "#                             index_end = index + 2\n",
    "# #                             print(substance)\n",
    "#                         result[substance] = [quant]\n",
    "# #                             print(quant)\n",
    "\n",
    "#                     index += 1 \n",
    "\n",
    "#                 continue\n",
    "\n",
    "        \n",
    "#     if len(text_span) == 0:\n",
    "#         result['期限/年'] = text.split('期限')[1].split('年')[0]\n",
    "#         for pair in text.split('拟申购')[1].split('，期限')[0].split('，'):\n",
    "#             result[pair.split('：')[0]+'/吨'] = [pair.split('：')[1]]\n",
    "#     else:\n",
    "#         result['期限/年'] = [text_span[num_pollutant*2].text]\n",
    "#         for i in range(0, num_pollutant*2, 2):\n",
    "#             result[text_span[i].text+'/吨'] = [text_span[i+1].text]\n",
    "\n",
    "\n",
    "\n",
    "\n",
    " \n",
    "    \n",
    "    df_temp = DataFrame(result)\n",
    "    df_result = concat([df_result, df_temp], axis=0, ignore_index=True)"
   ]
  },
  {
   "cell_type": "code",
   "execution_count": 135,
   "id": "c04a71b3",
   "metadata": {},
   "outputs": [],
   "source": [
    "file_name = \"福建省排污权交易中心_受让公告_\" + time.strftime(\"%Y-%m-%d\", time.localtime()) + \".csv\"\n",
    "df_result.to_csv(file_name)"
   ]
  }
 ],
 "metadata": {
  "kernelspec": {
   "display_name": "Python 3 (ipykernel)",
   "language": "python",
   "name": "python3"
  },
  "language_info": {
   "codemirror_mode": {
    "name": "ipython",
    "version": 3
   },
   "file_extension": ".py",
   "mimetype": "text/x-python",
   "name": "python",
   "nbconvert_exporter": "python",
   "pygments_lexer": "ipython3",
   "version": "3.7.13"
  }
 },
 "nbformat": 4,
 "nbformat_minor": 5
}
